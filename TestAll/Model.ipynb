{
 "metadata": {
  "language_info": {
   "codemirror_mode": {
    "name": "ipython",
    "version": 3
   },
   "file_extension": ".py",
   "mimetype": "text/x-python",
   "name": "python",
   "nbconvert_exporter": "python",
   "pygments_lexer": "ipython3",
   "version": "3.8.3-final"
  },
  "orig_nbformat": 2,
  "kernelspec": {
   "name": "python3",
   "display_name": "Python 3",
   "language": "python"
  }
 },
 "nbformat": 4,
 "nbformat_minor": 2,
 "cells": [
  {
   "source": [
    "Steps :\n",
    "1- Get file name as param in fn\n",
    "\n",
    "2- inside file open a directory called data\n",
    "\n",
    "3- inside data you'll have N folders\n",
    "\n",
    "4- in each Folder , you'll train your model and test it on an image called test.png\n",
    "\n"
   ],
   "cell_type": "markdown",
   "metadata": {}
  },
  {
   "cell_type": "code",
   "execution_count": 2,
   "metadata": {},
   "outputs": [],
   "source": [
    "def dummy_extract_feature(image):\n",
    "    return None\n",
    "def Model_fit(X,y):\n",
    "    pass\n",
    "def Model_predict(X):\n",
    "    pass"
   ]
  },
  {
   "cell_type": "code",
   "execution_count": 6,
   "metadata": {},
   "outputs": [],
   "source": [
    "import numpy as np\n",
    "import os\n",
    "import time\n",
    "from segmentation import *\n",
    "from FeatureExtraction import extract_all_features\n",
    "from sklearn.neighbors import KNeighborsClassifier\n",
    "from scipy.stats import mode"
   ]
  },
  {
   "cell_type": "code",
   "execution_count": null,
   "metadata": {},
   "outputs": [],
   "source": []
  },
  {
   "cell_type": "code",
   "execution_count": null,
   "metadata": {},
   "outputs": [],
   "source": [
    "#Global Variables:\n",
    "N_Features = 8"
   ]
  },
  {
   "cell_type": "code",
   "execution_count": 4,
   "metadata": {},
   "outputs": [],
   "source": [
    "def createFileFromArr(arr,path):\n",
    "    f = open(path,\"w+\")\n",
    "\n",
    "    for elem in arr:\n",
    "        f.write('{} \\n'.format(round(elem,2)))\n",
    "\n",
    "    f.close()"
   ]
  },
  {
   "cell_type": "code",
   "execution_count": 5,
   "metadata": {},
   "outputs": [],
   "source": [
    "path = 'F:\\\\Test Set Sample\\\\'"
   ]
  },
  {
   "cell_type": "code",
   "execution_count": 5,
   "metadata": {},
   "outputs": [],
   "source": [
    "def RunModel(path,model,**kwargs): #kwargs is for model hyperparameters\n",
    "    \n",
    "    #in case this is a neural network , we would have to add the compiling and the creating\n",
    "    # other models from sklearn , we will jsut create a new object and \n",
    "\n",
    "        \n",
    "    # creating variables\n",
    "    Time_Pred = []\n",
    "    Test_Pred = []\n",
    "    y_train = np.empty((0,N_Features),dtype=np.float64)\n",
    "\n",
    "\n",
    "\n",
    "    path_dir = os.path.join(path,'data')\n",
    "    root , subdir , subfiles = next(os.walk(path_dir))\n",
    "\n",
    "    for directory in subdir:\n",
    "        root2 , ClassesDirectories , test_image = next(os.walk(os.path.join(root,directory)))\n",
    "        test_image_path = os.path.join(root2,test_image[0])\n",
    "    \n",
    "        # Setting start time for each directory\n",
    "        start_time = time.time()\n",
    "        # A new feature vector\n",
    "        X = dummy_extract_feature(test_image_path)\n",
    "        # ClassesDirectories is the file that has the directories 1 , 2 ,3 and test_image.png\n",
    "        # so each ClassDir contains 2 images and\n",
    "        for WriterID , ClassDir in enumerate(ClassesDirectories , start = 1):\n",
    "            # each subdir has the \n",
    "            root3 , _ , images = next(os.walk(os.path.join(root2,ClassDir)))\n",
    "            \n",
    "            for image in images:\n",
    "                lines = dummy_extract_feature(image)\n",
    "                np.vstack((X,img_features))\n",
    "\n",
    "        #At the end of this loop \n",
    "        # X should have at index 0 , features of test case\n",
    "        # X[1:,:] has the features of writer 1,2,3\n",
    "        knn = KNeighborsClassifier(n_neighbors=5)\n",
    "\n",
    "        knn.fit((X[1:,:],y_train))\n",
    "\n",
    "        # Adding prediction and time to each of their respective arrays\n",
    "        Test_pred.append( mode( knn.predict(X[0:n_lines_test,:]) ))\n",
    "        Time_Pred.append(time.time() - start_time)\n",
    "\n",
    "    # Print Time and Results to a file\n",
    "    createFileFromArr(Time_Pred,os.path.join(path,'time.txt'))\n",
    "    createFileFromArr(Test_Pred,os.path.join(path,'results.txt'))\n",
    "\n",
    "\n",
    "\n",
    "\n",
    "\n"
   ]
  },
  {
   "cell_type": "code",
   "execution_count": 7,
   "metadata": {},
   "outputs": [],
   "source": [
    "\n",
    "\n",
    "path_dir = os.path.join(path,'data')\n",
    "root , subdir , subfiles = next(os.walk(path_dir))\n",
    "\n",
    "# creating a y_train\n",
    "Time_Pred = []\n",
    "Test_Pred = []\n",
    "y_train = np.array([[1],    #hard coded as all the files will have the same format\n",
    "                    [1],\n",
    "                    [2],\n",
    "                    [2],\n",
    "                    [3],\n",
    "                    [3]])\n"
   ]
  },
  {
   "cell_type": "code",
   "execution_count": 9,
   "metadata": {},
   "outputs": [
    {
     "output_type": "stream",
     "name": "stdout",
     "text": [
      "F:\\Test Set Sample\\data\\01\\1\\1.png\nF:\\Test Set Sample\\data\\01\\1\\2.png\nF:\\Test Set Sample\\data\\01\\2\\1.png\nF:\\Test Set Sample\\data\\01\\2\\2.png\nF:\\Test Set Sample\\data\\01\\3\\1.png\nF:\\Test Set Sample\\data\\01\\3\\2.png\n"
     ]
    },
    {
     "output_type": "error",
     "ename": "TypeError",
     "evalue": "'NoneType' object is not subscriptable",
     "traceback": [
      "\u001b[1;31m---------------------------------------------------------------------------\u001b[0m",
      "\u001b[1;31mTypeError\u001b[0m                                 Traceback (most recent call last)",
      "\u001b[1;32m<ipython-input-9-3ca25d138caf>\u001b[0m in \u001b[0;36m<module>\u001b[1;34m\u001b[0m\n\u001b[0;32m     22\u001b[0m     \u001b[1;31m# X[1:,:] has the features of writer 1,2,3\u001b[0m\u001b[1;33m\u001b[0m\u001b[1;33m\u001b[0m\u001b[1;33m\u001b[0m\u001b[0m\n\u001b[0;32m     23\u001b[0m \u001b[1;33m\u001b[0m\u001b[0m\n\u001b[1;32m---> 24\u001b[1;33m     \u001b[0mModel_fit\u001b[0m\u001b[1;33m(\u001b[0m\u001b[0mX\u001b[0m\u001b[1;33m[\u001b[0m\u001b[1;36m1\u001b[0m\u001b[1;33m:\u001b[0m\u001b[1;33m,\u001b[0m\u001b[1;33m:\u001b[0m\u001b[1;33m]\u001b[0m\u001b[1;33m,\u001b[0m\u001b[0my_train\u001b[0m\u001b[1;33m)\u001b[0m\u001b[1;33m\u001b[0m\u001b[1;33m\u001b[0m\u001b[0m\n\u001b[0m\u001b[0;32m     25\u001b[0m \u001b[1;33m\u001b[0m\u001b[0m\n\u001b[0;32m     26\u001b[0m     \u001b[1;31m# Adding prediction and time to each of their respective arrays\u001b[0m\u001b[1;33m\u001b[0m\u001b[1;33m\u001b[0m\u001b[1;33m\u001b[0m\u001b[0m\n",
      "\u001b[1;31mTypeError\u001b[0m: 'NoneType' object is not subscriptable"
     ]
    }
   ],
   "source": [
    "\n",
    "for directory in subdir:\n",
    "    root2 , ClassesDirectories , test_image = next(os.walk(os.path.join(root,directory)))\n",
    "    test_image_path = os.path.join(root2,test_image[0])\n",
    "    \n",
    "    # Setting start time for each directory\n",
    "    start_time = time.time()\n",
    "    # A new feature vector\n",
    "    Lines , n_lines_test = ImgToLine(test_image_path)\n",
    "    for line in Lines\n",
    "        X = dummy_extract_feature(line)\n",
    "    # ClassesDirectories is the file that has the directories 1 , 2 ,3 and test_image.png\n",
    "    # so each ClassDir contains 2 images and\n",
    "    for WriterID , ClassDir in enumerate(ClassesDirectories , start = 1):\n",
    "        # each subdir has the \n",
    "        root3 , _ , images = next(os.walk(os.path.join(root2,ClassDir)))\n",
    "        \n",
    "        for i , image in enumerate(images):\n",
    "            Lines , n_lines = ImgToLine(os.path.join(root3,image))\n",
    "            for line in Lines:\n",
    "                img_features = dummy_extract_feature(line)\n",
    "                X = np.vstack((X,img_features))\n",
    "\n",
    "    #At the end of this loop \n",
    "    # X should have at index 0 , features of test case\n",
    "    # X[1:,:] has the features of writer 1,2,3\n",
    "    \n",
    "    Model_fit(X[1:,:],y_train)\n",
    "\n",
    "    # Adding prediction and time to each of their respective arrays\n",
    "    Test_pred.append( Model_predict(X[0]) )\n",
    "    Time_Pred.append(time.time() - start_time)\n",
    "\n",
    "createFileFromArr(Time_Pred,os.path.join(path,'time.txt'))\n",
    "#createFileFromArr(Test_Pred,os.path.join(path,'results.txt'))\n",
    "\n",
    "\n",
    "\n",
    "            \n",
    "\n",
    "            "
   ]
  },
  {
   "cell_type": "code",
   "execution_count": 52,
   "metadata": {},
   "outputs": [],
   "source": [
    "arr = [0,0,0]\n",
    "createFileFromArr(arr,'.\\\\test.txt')"
   ]
  },
  {
   "cell_type": "code",
   "execution_count": null,
   "metadata": {},
   "outputs": [],
   "source": []
  }
 ]
}