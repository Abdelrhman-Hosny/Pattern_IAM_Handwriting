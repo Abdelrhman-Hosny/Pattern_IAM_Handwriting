{
 "metadata": {
  "language_info": {
   "codemirror_mode": {
    "name": "ipython",
    "version": 3
   },
   "file_extension": ".py",
   "mimetype": "text/x-python",
   "name": "python",
   "nbconvert_exporter": "python",
   "pygments_lexer": "ipython3",
   "version": "3.9.0-final"
  },
  "orig_nbformat": 2,
  "kernelspec": {
   "name": "python3",
   "display_name": "Python 3.9.0 64-bit",
   "metadata": {
    "interpreter": {
     "hash": "1967f45ab75df5fd471037fbdbc6143a93b25e366f5b54323c5f543e0eed266a"
    }
   }
  }
 },
 "nbformat": 4,
 "nbformat_minor": 2,
 "cells": [
  {
   "cell_type": "code",
   "execution_count": 1,
   "metadata": {},
   "outputs": [],
   "source": [
    "import cv2\n",
    "import numpy as np\n",
    "import glob\n",
    "import time"
   ]
  },
  {
   "cell_type": "code",
   "execution_count": 2,
   "metadata": {},
   "outputs": [],
   "source": [
    "f = open(\"forms.txt\",'r')\n",
    "FileNames = []\n",
    "WriterID = []\n",
    "for i in range(16):\n",
    "    next(f,None)\n",
    "for line in f:\n",
    "    Splitted = line.split(sep=' ')\n",
    "    FileNames.append(Splitted[0])\n",
    "    WriterID.append(Splitted[1])\n",
    "\n",
    "\n",
    "f.close()"
   ]
  },
  {
   "cell_type": "code",
   "execution_count": 3,
   "metadata": {},
   "outputs": [
    {
     "output_type": "execute_result",
     "data": {
      "text/plain": [
       "1539"
      ]
     },
     "metadata": {},
     "execution_count": 3
    }
   ],
   "source": [
    "len(FileNames)"
   ]
  },
  {
   "cell_type": "code",
   "execution_count": 4,
   "metadata": {},
   "outputs": [],
   "source": [
    "Dataset_FileName = 'F:\\\\Pattern_Proj_Dataset\\\\Form\\\\'\n",
    "Dataset_Files = 'F:\\\\Pattern_Proj_Dataset\\\\Form\\\\*.png'\n",
    "\n",
    "def ShowImage(name,formName='image'):\n",
    "    res = cv2.resize(name,(768,768))\n",
    "    cv2.imshow(formName,res)\n",
    "    cv2.waitKey(0);\n",
    "    \n",
    "def returnFilePath(name):\n",
    "    return Dataset_FileName + name\n",
    "\n",
    "def CompareToImage(img,img2,name1='image1',name2='image2'):\n",
    "    res = cv2.resize(img,(768,768))\n",
    "    cv2.imshow(name1,res)\n",
    "    ShowImage(img2,name2)\n"
   ]
  },
  {
   "cell_type": "code",
   "execution_count": 12,
   "metadata": {},
   "outputs": [],
   "source": [
    "img = cv2.imread(returnFilePath('a01-000u.png'),0)\n",
    "ShowImage(img)"
   ]
  },
  {
   "cell_type": "code",
   "execution_count": 7,
   "metadata": {},
   "outputs": [],
   "source": [
    "blur_gauss = cv2.GaussianBlur(img,(3,3),0)\n",
    "_ , threshed = cv2.threshold(blur_gauss , 127 , 255 , cv2.THRESH_BINARY_INV|cv2.THRESH_OTSU)\n",
    "_ , threshed_nogauss = cv2.threshold(img , 127 , 255 , cv2.THRESH_BINARY_INV|cv2.THRESH_OTSU)\n",
    "CompareToImage(threshed,threshed_nogauss,\"Gauss\",\"NoGauss\")"
   ]
  },
  {
   "cell_type": "code",
   "execution_count": 15,
   "metadata": {},
   "outputs": [],
   "source": [
    "# houghlines variables\n",
    "\n",
    "rho = 10 # distance resolution in pixels of the Hough grid\n",
    "theta = np.pi / 180  # angular resolution in radians of the Hough grid\n",
    "threshold = 1  # minimum number of votes (intersections in Hough grid cell)\n",
    "min_line_length = 350  # minimum number of pixels making up a line\n",
    "max_line_gap = 5# maximum gap in pixels between connectable line segments"
   ]
  },
  {
   "cell_type": "code",
   "execution_count": 18,
   "metadata": {},
   "outputs": [],
   "source": [
    "def GetLinesP(img):\n",
    "    blur_gauss = cv2.GaussianBlur(img,(5,5),0)\n",
    "    _ , threshed = cv2.threshold(blur_gauss , 200 , 255 , cv2.THRESH_BINARY_INV|cv2.THRESH_OTSU)\n",
    "    ShowImage(threshed)\n",
    "    line_image = np.copy(img) * 0  # creating a blank to draw lines on\n",
    "    \n",
    "    lines = cv2.HoughLinesP(threshed, rho, theta, threshold, np.array([]),\n",
    "                        min_line_length, max_line_gap)\n",
    "    return lines , line_image\n",
    "def drawLines(lines , imgToDrawOn):\n",
    "    \n",
    "    for line in lines:\n",
    "        for x1,y1,x2,y2 in line:\n",
    "            cv2.line(imgToDrawOn,(x1,y1),(x2,y2),(255,0,0),5)\n",
    "def printLines(lines):\n",
    "    print(lines.shape[0])\n",
    "    for line in lines:\n",
    "        for x1,y1,x2,y2 in line:\n",
    "            print(\"Start : ( {} , {} ) , End : ( {} , {} ) \".format(x1,y1,x2,y2))"
   ]
  },
  {
   "cell_type": "code",
   "execution_count": 10,
   "metadata": {},
   "outputs": [],
   "source": [
    "def AllFunctionalitiesP(img,printLine = False ):\n",
    "\n",
    "    lines , line_image = GetLinesP(img)\n",
    "    drawLines(lines,line_image)\n",
    "    if(printLine) : printLines(lines)\n",
    "    lines_edges = cv2.addWeighted(img, 0.8, line_image, 1, 0)\n",
    "\n",
    "    return lines_edges , lines\n"
   ]
  },
  {
   "cell_type": "code",
   "execution_count": 17,
   "metadata": {},
   "outputs": [
    {
     "output_type": "error",
     "ename": "NameError",
     "evalue": "name 'line_image' is not defined",
     "traceback": [
      "\u001b[1;31m---------------------------------------------------------------------------\u001b[0m",
      "\u001b[1;31mNameError\u001b[0m                                 Traceback (most recent call last)",
      "\u001b[1;32m<ipython-input-17-5e0e40ea71c2>\u001b[0m in \u001b[0;36m<module>\u001b[1;34m\u001b[0m\n\u001b[1;32m----> 1\u001b[1;33m \u001b[0mimgPrint\u001b[0m \u001b[1;33m,\u001b[0m \u001b[0m_\u001b[0m \u001b[1;33m=\u001b[0m \u001b[0mAllFunctionalitiesP\u001b[0m\u001b[1;33m(\u001b[0m\u001b[0mimg\u001b[0m\u001b[1;33m,\u001b[0m\u001b[1;32mTrue\u001b[0m\u001b[1;33m)\u001b[0m\u001b[1;33m\u001b[0m\u001b[1;33m\u001b[0m\u001b[0m\n\u001b[0m\u001b[0;32m      2\u001b[0m \u001b[0mShowImage\u001b[0m\u001b[1;33m(\u001b[0m\u001b[0mimgPrint\u001b[0m\u001b[1;33m)\u001b[0m\u001b[1;33m\u001b[0m\u001b[1;33m\u001b[0m\u001b[0m\n",
      "\u001b[1;32m<ipython-input-10-19ce069efdf7>\u001b[0m in \u001b[0;36mAllFunctionalitiesP\u001b[1;34m(img, printLine)\u001b[0m\n\u001b[0;32m      1\u001b[0m \u001b[1;32mdef\u001b[0m \u001b[0mAllFunctionalitiesP\u001b[0m\u001b[1;33m(\u001b[0m\u001b[0mimg\u001b[0m\u001b[1;33m,\u001b[0m\u001b[0mprintLine\u001b[0m \u001b[1;33m=\u001b[0m \u001b[1;32mFalse\u001b[0m \u001b[1;33m)\u001b[0m\u001b[1;33m:\u001b[0m\u001b[1;33m\u001b[0m\u001b[1;33m\u001b[0m\u001b[0m\n\u001b[0;32m      2\u001b[0m \u001b[1;33m\u001b[0m\u001b[0m\n\u001b[1;32m----> 3\u001b[1;33m     \u001b[0mlines\u001b[0m \u001b[1;33m,\u001b[0m \u001b[0mline_image\u001b[0m \u001b[1;33m=\u001b[0m \u001b[0mGetLinesP\u001b[0m\u001b[1;33m(\u001b[0m\u001b[0mimg\u001b[0m\u001b[1;33m)\u001b[0m\u001b[1;33m\u001b[0m\u001b[1;33m\u001b[0m\u001b[0m\n\u001b[0m\u001b[0;32m      4\u001b[0m     \u001b[0mdrawLines\u001b[0m\u001b[1;33m(\u001b[0m\u001b[0mlines\u001b[0m\u001b[1;33m,\u001b[0m\u001b[0mline_image\u001b[0m\u001b[1;33m)\u001b[0m\u001b[1;33m\u001b[0m\u001b[1;33m\u001b[0m\u001b[0m\n\u001b[0;32m      5\u001b[0m     \u001b[1;32mif\u001b[0m\u001b[1;33m(\u001b[0m\u001b[0mprintLine\u001b[0m\u001b[1;33m)\u001b[0m \u001b[1;33m:\u001b[0m \u001b[0mprintLines\u001b[0m\u001b[1;33m(\u001b[0m\u001b[0mlines\u001b[0m\u001b[1;33m)\u001b[0m\u001b[1;33m\u001b[0m\u001b[1;33m\u001b[0m\u001b[0m\n",
      "\u001b[1;32m<ipython-input-14-416d5fef9689>\u001b[0m in \u001b[0;36mGetLinesP\u001b[1;34m(img)\u001b[0m\n\u001b[0;32m      7\u001b[0m     lines = cv2.HoughLinesP(threshed, rho, theta, threshold, np.array([]),\n\u001b[0;32m      8\u001b[0m                         min_line_length, max_line_gap)\n\u001b[1;32m----> 9\u001b[1;33m     \u001b[1;32mreturn\u001b[0m \u001b[0mlines\u001b[0m \u001b[1;33m,\u001b[0m \u001b[0mline_image\u001b[0m\u001b[1;33m\u001b[0m\u001b[1;33m\u001b[0m\u001b[0m\n\u001b[0m\u001b[0;32m     10\u001b[0m \u001b[1;32mdef\u001b[0m \u001b[0mdrawLines\u001b[0m\u001b[1;33m(\u001b[0m\u001b[0mlines\u001b[0m \u001b[1;33m,\u001b[0m \u001b[0mimgToDrawOn\u001b[0m\u001b[1;33m)\u001b[0m\u001b[1;33m:\u001b[0m\u001b[1;33m\u001b[0m\u001b[1;33m\u001b[0m\u001b[0m\n\u001b[0;32m     11\u001b[0m \u001b[1;33m\u001b[0m\u001b[0m\n",
      "\u001b[1;31mNameError\u001b[0m: name 'line_image' is not defined"
     ]
    }
   ],
   "source": [
    "imgPrint , _ = AllFunctionalitiesP(img,True)\n",
    "ShowImage(imgPrint)"
   ]
  },
  {
   "cell_type": "code",
   "execution_count": 10,
   "metadata": {},
   "outputs": [
    {
     "output_type": "stream",
     "name": "stdout",
     "text": [
      "3\nStart : ( 844 , 2390 ) , End : ( 1597 , 2390 ) \nStart : ( 861 , 205 ) , End : ( 1664 , 205 ) \nStart : ( 1067 , 204 ) , End : ( 1864 , 204 ) \n"
     ]
    }
   ],
   "source": [
    "imgPrint ,_ = AllFunctionalitiesP(img[400:,300:],printLine=True)\n",
    "ShowImage(imgPrint)"
   ]
  },
  {
   "cell_type": "code",
   "execution_count": 11,
   "metadata": {},
   "outputs": [],
   "source": [
    "img2 = cv2.imread(returnFilePath('b06-068.png'),0)\n",
    "ShowImage(img2)"
   ]
  },
  {
   "cell_type": "code",
   "execution_count": 13,
   "metadata": {},
   "outputs": [
    {
     "output_type": "stream",
     "name": "stdout",
     "text": [
      "2\nStart : ( 47 , 2398 ) , End : ( 1851 , 2398 ) \nStart : ( 45 , 257 ) , End : ( 1847 , 257 ) \n"
     ]
    }
   ],
   "source": [
    "imgPrint , _ = AllFunctionalitiesP(img2[400:,300:],printLine=True)\n",
    "ShowImage(imgPrint)"
   ]
  },
  {
   "cell_type": "code",
   "execution_count": 20,
   "metadata": {},
   "outputs": [],
   "source": [
    "img3 = cv2.imread(returnFilePath('d04-016.png'),0)\n",
    "ShowImage(img3)"
   ]
  },
  {
   "cell_type": "code",
   "execution_count": 21,
   "metadata": {},
   "outputs": [
    {
     "output_type": "stream",
     "name": "stdout",
     "text": [
      "2\nStart : ( 52 , 213 ) , End : ( 1849 , 213 ) \nStart : ( 946 , 2404 ) , End : ( 1850 , 2404 ) \n"
     ]
    }
   ],
   "source": [
    "imgPrint = AllFunctionalities(img3[400:,300:],printLine=True)\n",
    "ShowImage(imgPrint)"
   ]
  },
  {
   "cell_type": "code",
   "execution_count": 52,
   "metadata": {},
   "outputs": [
    {
     "output_type": "stream",
     "name": "stdout",
     "text": [
      "Functionality in 261.9237630367279 \n"
     ]
    }
   ],
   "source": [
    "LineCheck = []\n",
    "start = time.time()\n",
    "for file in glob.glob(Dataset_Files):\n",
    "    img = cv2.imread(file,0)\n",
    "\n",
    "    imgPrint = AllFunctionalitiesP(img[400:,300:]) \n",
    "\n",
    "print(\"Functionality in {} \".format((time.time() - start)))\n",
    "    "
   ]
  },
  {
   "cell_type": "code",
   "execution_count": 53,
   "metadata": {},
   "outputs": [],
   "source": [
    "LineChecknp = np.array(LineCheck) "
   ]
  },
  {
   "cell_type": "code",
   "execution_count": 54,
   "metadata": {},
   "outputs": [],
   "source": [
    "fname_np = np.array(FileNames)"
   ]
  },
  {
   "cell_type": "code",
   "execution_count": 55,
   "metadata": {},
   "outputs": [
    {
     "output_type": "execute_result",
     "data": {
      "text/plain": [
       "(array([1, 2, 3, 4, 5, 6]), array([  2, 599, 549, 368,  19,   2], dtype=int64))"
      ]
     },
     "metadata": {},
     "execution_count": 55
    }
   ],
   "source": [
    "np.unique(LineChecknp , return_counts=True) #kernel 5x5"
   ]
  },
  {
   "cell_type": "code",
   "execution_count": 56,
   "metadata": {},
   "outputs": [],
   "source": [
    "only2lines = LineChecknp == 1\n",
    "lines2Img = fname_np[only2lines]"
   ]
  },
  {
   "cell_type": "code",
   "execution_count": 58,
   "metadata": {},
   "outputs": [],
   "source": [
    "for fname in lines2Img:\n",
    "    fname = fname+ '.png'\n",
    "    img = cv2.imread(returnFilePath(fname),0)\n",
    "    imgPrint = AllFunctionalitiesP(img[400:,300:])\n",
    "    ShowImage(imgPrint)\n"
   ]
  },
  {
   "cell_type": "code",
   "execution_count": null,
   "metadata": {},
   "outputs": [],
   "source": []
  },
  {
   "source": [
    "# Trying the blob detector"
   ],
   "cell_type": "markdown",
   "metadata": {}
  },
  {
   "cell_type": "code",
   "execution_count": 12,
   "metadata": {},
   "outputs": [],
   "source": [
    "ShowImage(img)"
   ]
  },
  {
   "cell_type": "code",
   "execution_count": 13,
   "metadata": {},
   "outputs": [
    {
     "output_type": "stream",
     "name": "stdout",
     "text": [
      "3\nStart : ( 844 , 2390 ) , End : ( 1597 , 2390 ) \nStart : ( 861 , 205 ) , End : ( 1664 , 205 ) \nStart : ( 1067 , 204 ) , End : ( 1864 , 204 ) \n"
     ]
    }
   ],
   "source": [
    "imgPrint  , _= AllFunctionalitiesP(img[400:,300:],printLine=True)\n",
    "ShowImage(imgPrint)"
   ]
  },
  {
   "cell_type": "code",
   "execution_count": 34,
   "metadata": {},
   "outputs": [],
   "source": [
    "Y_Crop = 400 + 205 + 15 + 50\n",
    "Y_Crop2 = 400 + 2390 - 700\n",
    "CroppedImage = img[Y_Crop:Y_Crop2,300:]\n",
    "ShowImage(CroppedImage)"
   ]
  },
  {
   "cell_type": "code",
   "execution_count": 64,
   "metadata": {},
   "outputs": [],
   "source": [
    "params = cv2.SimpleBlobDetector_Params()\n",
    "\n",
    "\n",
    "\n"
   ]
  },
  {
   "cell_type": "code",
   "execution_count": 69,
   "metadata": {},
   "outputs": [],
   "source": [
    "blob = cv2.SimpleBlobDetector_create()"
   ]
  },
  {
   "cell_type": "code",
   "execution_count": 70,
   "metadata": {},
   "outputs": [
    {
     "output_type": "execute_result",
     "data": {
      "text/plain": [
       "13"
      ]
     },
     "metadata": {},
     "execution_count": 70
    }
   ],
   "source": [
    "keypoints = blob.detect(CroppedImage)\n",
    "len(keypoints)"
   ]
  },
  {
   "cell_type": "code",
   "execution_count": 71,
   "metadata": {},
   "outputs": [],
   "source": [
    "CroppedImageColored = cv2.cvtColor(CroppedImage,cv2.COLOR_GRAY2BGR)"
   ]
  },
  {
   "cell_type": "code",
   "execution_count": 72,
   "metadata": {},
   "outputs": [],
   "source": [
    "im_with_keypoints = cv2.drawKeypoints(CroppedImageColored,keypoints,np.array([]) , (0,0,255) , cv2.DrawMatchesFlags_DRAW_RICH_KEYPOINTS)"
   ]
  },
  {
   "cell_type": "code",
   "execution_count": 73,
   "metadata": {},
   "outputs": [],
   "source": [
    "ShowImage(im_with_keypoints)"
   ]
  },
  {
   "cell_type": "code",
   "execution_count": null,
   "metadata": {},
   "outputs": [],
   "source": []
  },
  {
   "cell_type": "code",
   "execution_count": 107,
   "metadata": {},
   "outputs": [],
   "source": [
    "# ## (2) threshold\n",
    "# th, threshed2 = cv2.threshold(CroppedImage, 127, 255, cv2.THRESH_BINARY_INV|cv2.THRESH_OTSU)\n",
    "\n",
    "\n",
    "# pts = cv2.findNonZero(threshed2)\n",
    "# rect = cv2.minAreaRect(pts)\n",
    "\n",
    "# (cx,cy),(w,h),ang = rect\n",
    "\n",
    "# if (w>h):\n",
    "#     w,h = h , w\n",
    "#     ang += 90\n",
    "# # (4) Find rotated matrix, do rotation\n",
    "# M = cv2.getRotationMatrix2D((cx,cy), ang, 1.0)\n",
    "# rotated = cv2.warpAffine(CroppedImage, M, (img.shape[1], img.shape[0]))\n",
    "\n",
    "# ## (5) find and draw the upper and lower boundary of each lines\n",
    "# hist = cv2.reduce(rotated,1, cv2.REDUCE_AVG).reshape(-1)\n",
    "\n",
    "# th = 2\n",
    "# H,W = img.shape[:2]\n",
    "# uppers = [y for y in range(H-1) if hist[y]<=th and hist[y+1]>th]\n",
    "# lowers = [y for y in range(H-1) if hist[y]>th and hist[y+1]<=th]\n",
    "\n",
    "# for y in uppers:\n",
    "#     cv2.line(rotated, (0,y), (W, y), (255,0,0), 5)\n",
    "\n",
    "# for y in lowers:\n",
    "#     cv2.line(rotated, (0,y), (W, y), (0,255,0), 5)\n",
    "\n",
    "# cv2.imwrite(\"result.png\", rotated)\n",
    "# ShowImage(rotated)\n",
    "\n"
   ]
  },
  {
   "cell_type": "code",
   "execution_count": 92,
   "metadata": {},
   "outputs": [],
   "source": [
    "cy = int(cy)\n",
    "cx = int(cx)\n",
    "w = int(w)\n",
    "h = int(h)"
   ]
  },
  {
   "cell_type": "code",
   "execution_count": 101,
   "metadata": {},
   "outputs": [],
   "source": [
    "ShowImage(rotated[cy-round(h/2):cy+round(h/2),cx-round(w/2):cx+round(w/2)])"
   ]
  },
  {
   "cell_type": "code",
   "execution_count": 96,
   "metadata": {},
   "outputs": [],
   "source": [
    "ShowImage(rotated)"
   ]
  },
  {
   "cell_type": "code",
   "execution_count": null,
   "metadata": {},
   "outputs": [],
   "source": []
  }
 ]
}