{
 "metadata": {
  "language_info": {
   "codemirror_mode": {
    "name": "ipython",
    "version": 3
   },
   "file_extension": ".py",
   "mimetype": "text/x-python",
   "name": "python",
   "nbconvert_exporter": "python",
   "pygments_lexer": "ipython3",
   "version": "3.8.3-final"
  },
  "orig_nbformat": 2,
  "kernelspec": {
   "name": "python3",
   "display_name": "Python 3",
   "language": "python"
  }
 },
 "nbformat": 4,
 "nbformat_minor": 2,
 "cells": [
  {
   "cell_type": "code",
   "execution_count": 1,
   "metadata": {},
   "outputs": [],
   "source": [
    "import cv2\n",
    "import numpy as np\n",
    "import glob\n",
    "import time"
   ]
  },
  {
   "cell_type": "code",
   "execution_count": 15,
   "metadata": {},
   "outputs": [],
   "source": [
    "f = open(\"F:\\\\Pattern_Proj_Dataset\\\\ascii\\\\forms.txt\",'r') # File called form in ascii from dataset \n",
    "# this file has the name of all writer along with the name of each photo \n",
    "#Name of each photo is in file name and Writer ID is in same index but in Writer ID array\n",
    "FileNames = []\n",
    "WriterID = []\n",
    "for i in range(16):\n",
    "    next(f,None)\n",
    "for line in f:\n",
    "    Splitted = line.split(sep=' ')\n",
    "    FileNames.append(Splitted[0])\n",
    "    WriterID.append(Splitted[1])\n",
    "\n",
    "\n",
    "f.close()"
   ]
  },
  {
   "cell_type": "code",
   "execution_count": 23,
   "metadata": {},
   "outputs": [
    {
     "output_type": "execute_result",
     "data": {
      "text/plain": [
       "'a01-000u'"
      ]
     },
     "metadata": {},
     "execution_count": 23
    }
   ],
   "source": []
  },
  {
   "cell_type": "code",
   "execution_count": 24,
   "metadata": {},
   "outputs": [],
   "source": [
    "Dataset_FileName = 'F:\\\\Pattern_Proj_Dataset\\\\Form\\\\'\n",
    "Dataset_Files = 'F:\\\\Pattern_Proj_Dataset\\\\Form\\\\*.png'\n",
    "\n",
    "def ShowImage(name,formName='image'):\n",
    "    res = cv2.resize(name,(768,768))\n",
    "    cv2.imshow(formName,res)\n",
    "    cv2.waitKey(0);\n",
    "    \n",
    "def returnFilePath(name):\n",
    "    return Dataset_FileName + name + '.png'\n",
    "\n",
    "def CompareToImage(img,img2,name1='image1',name2='image2'):\n",
    "    res = cv2.resize(img,(768,768))\n",
    "    cv2.imshow(name1,res)\n",
    "    ShowImage(img2,name2)"
   ]
  },
  {
   "cell_type": "code",
   "execution_count": 17,
   "metadata": {},
   "outputs": [],
   "source": [
    "# houghlines variables\n",
    "\n",
    "rho = 10 # distance resolution in pixels of the Hough grid\n",
    "theta = np.pi / 180  # angular resolution in radians of the Hough grid\n",
    "threshold = 1  # minimum number of votes (intersections in Hough grid cell)\n",
    "min_line_length = 350  # minimum number of pixels making up a line\n",
    "max_line_gap = 5# maximum gap in pixels between connectable line segments"
   ]
  },
  {
   "source": [
    "get lines changes gets all line using houghtransformP\n",
    "draw Lines , draw the output of getlines on the original "
   ],
   "cell_type": "markdown",
   "metadata": {}
  },
  {
   "cell_type": "code",
   "execution_count": 27,
   "metadata": {},
   "outputs": [],
   "source": [
    "def GetLines(img):\n",
    "    '''\n",
    "    Applies GaussianBlur -> Threholding -> HoughLines \n",
    "    Output : array containing CV Line objects , with all lines detected in image\n",
    "    '''\n",
    "    blur_gauss = cv2.GaussianBlur(img,(5,5),0)\n",
    "    _ , threshed = cv2.threshold(blur_gauss , 200 , 255 , cv2.THRESH_BINARY_INV|cv2.THRESH_OTSU)\n",
    "    ShowImage(threshed)\n",
    "    line_image = np.copy(img) * 0  # creating a blank to draw lines on\n",
    "    \n",
    "    lines = cv2.HoughLinesP(threshed, rho, theta, threshold, np.array([]),\n",
    "                        min_line_length, max_line_gap)\n",
    "    return lines ,line_image\n",
    "def drawLines(lines , imgToDrawOn):\n",
    "    ''' \n",
    "    Draws the line on image , to know what lines you have extracted \n",
    "    '''\n",
    "    for line in lines:\n",
    "        for x1,y1,x2,y2 in line:\n",
    "            cv2.line(imgToDrawOn,(x1,y1),(x2,y2),(255,0,0),5)\n",
    "def printLines(lines):\n",
    "    '''\n",
    "    Print X and y of line (start and end) to know where the line exists on the photo\n",
    "    '''\n",
    "    print(lines.shape[0])\n",
    "    for line in lines:\n",
    "        for x1,y1,x2,y2 in line:\n",
    "            print(\"Start : ( {} , {} ) , End : ( {} , {} ) \".format(x1,y1,x2,y2))"
   ]
  },
  {
   "cell_type": "code",
   "execution_count": 28,
   "metadata": {},
   "outputs": [],
   "source": [
    "def AllFunctionalities(img,printLine = False ):\n",
    "    '''\n",
    "    Extract lines from an image\n",
    "    Output : the image with lines drawn on it\n",
    "            and the array with line co-ordinates\n",
    "    '''\n",
    "    lines , line_image  = GetLines(img)\n",
    "    drawLines(lines,line_image)\n",
    "    if(printLine) : printLines(lines)\n",
    "    ImgWithLines = cv2.addWeighted(img, 0.8, line_image, 1, 0)\n",
    "\n",
    "    return ImgWithLines , lines"
   ]
  },
  {
   "cell_type": "code",
   "execution_count": 31,
   "metadata": {},
   "outputs": [],
   "source": [
    "img = cv2.imread(returnFilePath('a01-000u'),0)\n",
    "ShowImage(img)"
   ]
  },
  {
   "cell_type": "code",
   "execution_count": 30,
   "metadata": {},
   "outputs": [],
   "source": [
    "img = cv2.imread(returnFilePath(FileNames[0]),0)\n",
    "ShowImage(img)"
   ]
  },
  {
   "cell_type": "code",
   "execution_count": 37,
   "metadata": {},
   "outputs": [
    {
     "output_type": "stream",
     "name": "stdout",
     "text": [
      "8\nStart : ( 13 , 3541 ) , End : ( 13 , 1282 ) \nStart : ( 16 , 2708 ) , End : ( 16 , 2299 ) \nStart : ( 0 , 3381 ) , End : ( 0 , 1182 ) \nStart : ( 0 , 135 ) , End : ( 10 , 764 ) \nStart : ( 1547 , 2788 ) , End : ( 2180 , 2788 ) \nStart : ( 369 , 359 ) , End : ( 899 , 359 ) \nStart : ( 427 , 609 ) , End : ( 1138 , 609 ) \nStart : ( 4 , 498 ) , End : ( 10 , 866 ) \n"
     ]
    }
   ],
   "source": [
    "#No Crop\n",
    "ImgWithLines , lines = AllFunctionalities(img,printLine=True)\n",
    "ShowImage(ImgWithLines)"
   ]
  },
  {
   "source": [
    "Notes:\n",
    "When image is cropped , different lines are found even if the same function is used\n",
    "\n",
    "Sometimes a line is found if image is cropped but cant be found if image is not cropped , and vice versa"
   ],
   "cell_type": "markdown",
   "metadata": {}
  },
  {
   "cell_type": "code",
   "execution_count": 38,
   "metadata": {},
   "outputs": [
    {
     "output_type": "stream",
     "name": "stdout",
     "text": [
      "3\nStart : ( 125 , 209 ) , End : ( 836 , 209 ) \nStart : ( 296 , 2393 ) , End : ( 1005 , 2393 ) \nStart : ( 86 , 2395 ) , End : ( 625 , 2395 ) \n"
     ]
    }
   ],
   "source": [
    "# With Crop\n",
    "ImgWithLines , lines = AllFunctionalities(img[400:,300:],printLine=True)\n",
    "ShowImage(ImgWithLines)"
   ]
  },
  {
   "source": [
    "Notice that lines 3 and 4 have a difference of two in the Y axis , so basically are the same line"
   ],
   "cell_type": "markdown",
   "metadata": {}
  },
  {
   "cell_type": "code",
   "execution_count": 33,
   "metadata": {},
   "outputs": [],
   "source": []
  },
  {
   "cell_type": "code",
   "execution_count": null,
   "metadata": {},
   "outputs": [],
   "source": []
  }
 ]
}